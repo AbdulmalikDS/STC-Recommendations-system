{
 "cells": [
  {
   "cell_type": "markdown",
   "id": "d66c1c6c",
   "metadata": {},
   "source": [
    "# STC Jawwy"
   ]
  },
  {
   "cell_type": "code",
   "execution_count": 1,
   "id": "d3bcd889",
   "metadata": {},
   "outputs": [
    {
     "name": "stdout",
     "output_type": "stream",
     "text": [
      "Requirement already satisfied: pyxlsb in c:\\users\\pc\\appdata\\local\\programs\\python\\python312\\lib\\site-packages (1.0.10)\n"
     ]
    },
    {
     "name": "stderr",
     "output_type": "stream",
     "text": [
      "\n",
      "[notice] A new release of pip is available: 24.1 -> 24.1.2\n",
      "[notice] To update, run: python.exe -m pip install --upgrade pip\n"
     ]
    },
    {
     "name": "stdout",
     "output_type": "stream",
     "text": [
      "Requirement already satisfied: torch in c:\\users\\pc\\appdata\\local\\programs\\python\\python312\\lib\\site-packages (2.3.1)\n",
      "Requirement already satisfied: filelock in c:\\users\\pc\\appdata\\local\\programs\\python\\python312\\lib\\site-packages (from torch) (3.15.4)\n",
      "Requirement already satisfied: typing-extensions>=4.8.0 in c:\\users\\pc\\appdata\\local\\programs\\python\\python312\\lib\\site-packages (from torch) (4.12.2)\n",
      "Requirement already satisfied: sympy in c:\\users\\pc\\appdata\\local\\programs\\python\\python312\\lib\\site-packages (from torch) (1.13.0)\n",
      "Requirement already satisfied: networkx in c:\\users\\pc\\appdata\\local\\programs\\python\\python312\\lib\\site-packages (from torch) (3.3)\n",
      "Requirement already satisfied: jinja2 in c:\\users\\pc\\appdata\\local\\programs\\python\\python312\\lib\\site-packages (from torch) (3.1.4)\n",
      "Requirement already satisfied: fsspec in c:\\users\\pc\\appdata\\local\\programs\\python\\python312\\lib\\site-packages (from torch) (2024.6.1)\n",
      "Requirement already satisfied: mkl<=2021.4.0,>=2021.1.1 in c:\\users\\pc\\appdata\\local\\programs\\python\\python312\\lib\\site-packages (from torch) (2021.4.0)\n",
      "Requirement already satisfied: intel-openmp==2021.* in c:\\users\\pc\\appdata\\local\\programs\\python\\python312\\lib\\site-packages (from mkl<=2021.4.0,>=2021.1.1->torch) (2021.4.0)\n",
      "Requirement already satisfied: tbb==2021.* in c:\\users\\pc\\appdata\\local\\programs\\python\\python312\\lib\\site-packages (from mkl<=2021.4.0,>=2021.1.1->torch) (2021.13.0)\n",
      "Requirement already satisfied: MarkupSafe>=2.0 in c:\\users\\pc\\appdata\\local\\programs\\python\\python312\\lib\\site-packages (from jinja2->torch) (2.1.5)\n",
      "Requirement already satisfied: mpmath<1.4,>=1.1.0 in c:\\users\\pc\\appdata\\local\\programs\\python\\python312\\lib\\site-packages (from sympy->torch) (1.3.0)\n"
     ]
    },
    {
     "name": "stderr",
     "output_type": "stream",
     "text": [
      "\n",
      "[notice] A new release of pip is available: 24.1 -> 24.1.2\n",
      "[notice] To update, run: python.exe -m pip install --upgrade pip\n"
     ]
    },
    {
     "name": "stdout",
     "output_type": "stream",
     "text": [
      "Requirement already satisfied: tqdm in c:\\users\\pc\\appdata\\local\\programs\\python\\python312\\lib\\site-packages (4.66.4)\n",
      "Requirement already satisfied: colorama in c:\\users\\pc\\appdata\\local\\programs\\python\\python312\\lib\\site-packages (from tqdm) (0.4.6)\n"
     ]
    },
    {
     "name": "stderr",
     "output_type": "stream",
     "text": [
      "\n",
      "[notice] A new release of pip is available: 24.1 -> 24.1.2\n",
      "[notice] To update, run: python.exe -m pip install --upgrade pip\n"
     ]
    }
   ],
   "source": [
    "\"\"\"\n",
    "Here we install libraries that are not installed by default \n",
    "Example:  pyslsb\n",
    "Feel free to add any library you are planning to use.\n",
    "\"\"\"\n",
    "!pip install pyxlsb\n",
    "!pip install torch\n",
    "!pip install tqdm"
   ]
  },
  {
   "cell_type": "code",
   "execution_count": 36,
   "id": "b9d9d726",
   "metadata": {},
   "outputs": [],
   "source": [
    "# we import Visualization libraries \n",
    "# you can ignore and use any other graphing libraries \n",
    "import matplotlib.pyplot as plt # a comprehensive library for creating static, animated, and interactive visualizations\n",
    "import plotly #a graphing library makes interactive, publication-quality graphs. Examples of how to make line plots, scatter plots, area charts, bar charts, error bars, box plots, histograms, heatmaps, subplots, multiple-axes, polar charts, and bubble charts.\n",
    "import plotly.express as px\n",
    "import plotly.graph_objects as go\n",
    "from plotly.subplots import make_subplots\n",
    "import torch\n",
    "from torch.autograd import Variable\n",
    "from tqdm import tqdm_notebook as tqdm\n",
    "\n",
    "import pandas as pd\n",
    "import pyxlsb\n",
    "import numpy as np\n",
    "import matplotlib.pyplot as plt\n",
    "import plotly.express as px\n",
    "import plotly.graph_objects as go\n",
    "from plotly.subplots import make_subplots\n",
    "import torch\n",
    "from torch.autograd import Variable\n",
    "from tqdm import tqdm\n",
    "from torch.utils.data.dataset import Dataset\n",
    "from torch.utils.data import DataLoader\n",
    "import pandas as pd\n",
    "import pyxlsb\n",
    "import numpy as np\n",
    "import matplotlib.pyplot as plt\n",
    "import plotly.express as px\n",
    "import plotly.graph_objects as go\n",
    "from plotly.subplots import make_subplots\n",
    "import torch\n",
    "from torch.autograd import Variable\n",
    "from tqdm import tqdm\n",
    "from torch.utils.data.dataset import Dataset\n",
    "from torch.utils.data import DataLoader\n",
    "from sklearn.cluster import KMeans"
   ]
  },
  {
   "cell_type": "code",
   "execution_count": 3,
   "id": "df7dab59",
   "metadata": {},
   "outputs": [],
   "source": [
    "# Import the required libraries  \n",
    "\"\"\"\n",
    "Please feel free to import any required libraries as per your needs\n",
    "\"\"\"\n",
    "import pandas as pd     # provides high-performance, easy to use structures and data analysis tools\n",
    "import pyxlsb           # Excel extention to read xlsb files (the input file)\n",
    "import numpy as np      # provides fast mathematical computation on arrays and matrices"
   ]
  },
  {
   "cell_type": "markdown",
   "id": "8679536d",
   "metadata": {},
   "source": [
    "# Jawwy dataset\n",
    "The dataset consists of details about each customer and the movies and/or tv shows watched in addition to the genre. \n",
    "\n",
    "You are required to work on task three to build a recommendation engine for our platform to Recommend movies to usesrs that they might be interested in¶\n"
   ]
  },
  {
   "cell_type": "code",
   "execution_count": 4,
   "id": "1bcc5b5b",
   "metadata": {},
   "outputs": [],
   "source": [
    "dataframe = pd.read_excel(\"C:\\\\Users\\\\PC\\\\Downloads\\\\stc TV Data Set_T3.xlsx\",index_col=0)\n",
    "# Please make a copy of dataset if you are going to work directly and make changes on the dataset\n",
    "# you can use   df=dataframe.copy()"
   ]
  },
  {
   "cell_type": "code",
   "execution_count": 46,
   "id": "1a9ab25c",
   "metadata": {},
   "outputs": [],
   "source": [
    "dataframe['user_id_maped'] = dataframe['user_id_maped'].astype(int)\n",
    "dataframe['program_name'] = dataframe['program_name'].astype(str)\n",
    "dataframe['rating'] = dataframe['rating'].astype(float)\n"
   ]
  },
  {
   "cell_type": "code",
   "execution_count": 25,
   "id": "fc78b44d",
   "metadata": {},
   "outputs": [
    {
     "name": "stdout",
     "output_type": "stream",
     "text": [
      "Data shape: (1048575, 5)\n"
     ]
    }
   ],
   "source": [
    "# check the data shape \n",
    "print(\"Data shape:\", dataframe.shape)"
   ]
  },
  {
   "cell_type": "code",
   "execution_count": 6,
   "id": "e2983d5e",
   "metadata": {},
   "outputs": [
    {
     "data": {
      "text/html": [
       "<div>\n",
       "<style scoped>\n",
       "    .dataframe tbody tr th:only-of-type {\n",
       "        vertical-align: middle;\n",
       "    }\n",
       "\n",
       "    .dataframe tbody tr th {\n",
       "        vertical-align: top;\n",
       "    }\n",
       "\n",
       "    .dataframe thead th {\n",
       "        text-align: right;\n",
       "    }\n",
       "</style>\n",
       "<table border=\"1\" class=\"dataframe\">\n",
       "  <thead>\n",
       "    <tr style=\"text-align: right;\">\n",
       "      <th></th>\n",
       "      <th>user_id_maped</th>\n",
       "      <th>program_name</th>\n",
       "      <th>rating</th>\n",
       "      <th>date_</th>\n",
       "      <th>program_genre</th>\n",
       "    </tr>\n",
       "  </thead>\n",
       "  <tbody>\n",
       "    <tr>\n",
       "      <th>0</th>\n",
       "      <td>26138</td>\n",
       "      <td>100 treets</td>\n",
       "      <td>1</td>\n",
       "      <td>2017-05-27</td>\n",
       "      <td>Drama</td>\n",
       "    </tr>\n",
       "    <tr>\n",
       "      <th>1</th>\n",
       "      <td>7946</td>\n",
       "      <td>Moana</td>\n",
       "      <td>1</td>\n",
       "      <td>2017-05-21</td>\n",
       "      <td>Animation</td>\n",
       "    </tr>\n",
       "    <tr>\n",
       "      <th>2</th>\n",
       "      <td>7418</td>\n",
       "      <td>The Mermaid Princess</td>\n",
       "      <td>1</td>\n",
       "      <td>2017-08-10</td>\n",
       "      <td>Animation</td>\n",
       "    </tr>\n",
       "    <tr>\n",
       "      <th>3</th>\n",
       "      <td>19307</td>\n",
       "      <td>The Mermaid Princess</td>\n",
       "      <td>2</td>\n",
       "      <td>2017-07-26</td>\n",
       "      <td>Animation</td>\n",
       "    </tr>\n",
       "    <tr>\n",
       "      <th>4</th>\n",
       "      <td>15860</td>\n",
       "      <td>Churchill</td>\n",
       "      <td>2</td>\n",
       "      <td>2017-07-07</td>\n",
       "      <td>Biography</td>\n",
       "    </tr>\n",
       "  </tbody>\n",
       "</table>\n",
       "</div>"
      ],
      "text/plain": [
       "   user_id_maped          program_name  rating      date_ program_genre\n",
       "0          26138            100 treets       1 2017-05-27         Drama\n",
       "1           7946                 Moana       1 2017-05-21     Animation\n",
       "2           7418  The Mermaid Princess       1 2017-08-10     Animation\n",
       "3          19307  The Mermaid Princess       2 2017-07-26     Animation\n",
       "4          15860             Churchill       2 2017-07-07     Biography"
      ]
     },
     "execution_count": 6,
     "metadata": {},
     "output_type": "execute_result"
    }
   ],
   "source": [
    "# display the first 5 rows \n",
    "dataframe.head()"
   ]
  },
  {
   "cell_type": "code",
   "execution_count": 7,
   "id": "140f6cab",
   "metadata": {},
   "outputs": [
    {
     "data": {
      "text/html": [
       "<div>\n",
       "<style scoped>\n",
       "    .dataframe tbody tr th:only-of-type {\n",
       "        vertical-align: middle;\n",
       "    }\n",
       "\n",
       "    .dataframe tbody tr th {\n",
       "        vertical-align: top;\n",
       "    }\n",
       "\n",
       "    .dataframe thead th {\n",
       "        text-align: right;\n",
       "    }\n",
       "</style>\n",
       "<table border=\"1\" class=\"dataframe\">\n",
       "  <thead>\n",
       "    <tr style=\"text-align: right;\">\n",
       "      <th></th>\n",
       "      <th>user_id_maped</th>\n",
       "      <th>rating</th>\n",
       "      <th>date_</th>\n",
       "    </tr>\n",
       "  </thead>\n",
       "  <tbody>\n",
       "    <tr>\n",
       "      <th>count</th>\n",
       "      <td>1.048575e+06</td>\n",
       "      <td>1.048575e+06</td>\n",
       "      <td>1048575</td>\n",
       "    </tr>\n",
       "    <tr>\n",
       "      <th>mean</th>\n",
       "      <td>1.709266e+04</td>\n",
       "      <td>2.497283e+00</td>\n",
       "      <td>2017-10-04 00:23:20.346183936</td>\n",
       "    </tr>\n",
       "    <tr>\n",
       "      <th>min</th>\n",
       "      <td>1.000000e+00</td>\n",
       "      <td>1.000000e+00</td>\n",
       "      <td>2017-03-14 00:00:00</td>\n",
       "    </tr>\n",
       "    <tr>\n",
       "      <th>25%</th>\n",
       "      <td>8.253000e+03</td>\n",
       "      <td>1.000000e+00</td>\n",
       "      <td>2017-06-10 00:00:00</td>\n",
       "    </tr>\n",
       "    <tr>\n",
       "      <th>50%</th>\n",
       "      <td>1.714900e+04</td>\n",
       "      <td>2.000000e+00</td>\n",
       "      <td>2017-10-14 00:00:00</td>\n",
       "    </tr>\n",
       "    <tr>\n",
       "      <th>75%</th>\n",
       "      <td>2.566500e+04</td>\n",
       "      <td>3.000000e+00</td>\n",
       "      <td>2018-01-21 00:00:00</td>\n",
       "    </tr>\n",
       "    <tr>\n",
       "      <th>max</th>\n",
       "      <td>3.428000e+04</td>\n",
       "      <td>4.000000e+00</td>\n",
       "      <td>2018-04-30 00:00:00</td>\n",
       "    </tr>\n",
       "    <tr>\n",
       "      <th>std</th>\n",
       "      <td>1.003513e+04</td>\n",
       "      <td>1.119837e+00</td>\n",
       "      <td>NaN</td>\n",
       "    </tr>\n",
       "  </tbody>\n",
       "</table>\n",
       "</div>"
      ],
      "text/plain": [
       "       user_id_maped        rating                          date_\n",
       "count   1.048575e+06  1.048575e+06                        1048575\n",
       "mean    1.709266e+04  2.497283e+00  2017-10-04 00:23:20.346183936\n",
       "min     1.000000e+00  1.000000e+00            2017-03-14 00:00:00\n",
       "25%     8.253000e+03  1.000000e+00            2017-06-10 00:00:00\n",
       "50%     1.714900e+04  2.000000e+00            2017-10-14 00:00:00\n",
       "75%     2.566500e+04  3.000000e+00            2018-01-21 00:00:00\n",
       "max     3.428000e+04  4.000000e+00            2018-04-30 00:00:00\n",
       "std     1.003513e+04  1.119837e+00                            NaN"
      ]
     },
     "execution_count": 7,
     "metadata": {},
     "output_type": "execute_result"
    }
   ],
   "source": [
    "# describe the numeric values in the dataset\n",
    "dataframe.describe()"
   ]
  },
  {
   "cell_type": "code",
   "execution_count": 8,
   "id": "f71db3ad",
   "metadata": {},
   "outputs": [
    {
     "data": {
      "text/plain": [
       "user_id_maped    False\n",
       "program_name     False\n",
       "rating           False\n",
       "date_            False\n",
       "program_genre    False\n",
       "dtype: bool"
      ]
     },
     "execution_count": 8,
     "metadata": {},
     "output_type": "execute_result"
    }
   ],
   "source": [
    "# check if any column has null value in the dataset\n",
    "dataframe.isnull().any()"
   ]
  },
  {
   "cell_type": "code",
   "execution_count": 26,
   "id": "819f68f8",
   "metadata": {},
   "outputs": [
    {
     "name": "stdout",
     "output_type": "stream",
     "text": [
      "Number of unique users: 11578\n",
      "Number of unique movies: 8013\n",
      "The full rating matrix will have: 92774514 elements\n",
      "Number of ratings: 1048575\n",
      "Matrix fill percentage: 1.1302403588985657 %\n",
      "We have an incredibly sparse matrix to work with here.\n"
     ]
    }
   ],
   "source": [
    "movie_names = dataframe.set_index('program_name')['program_genre'].to_dict()\n",
    "n_users = len(dataframe.user_id_maped.unique())\n",
    "n_items = len(dataframe.program_name.unique())\n",
    "\n",
    "print(\"Number of unique users:\", n_users)\n",
    "print(\"Number of unique movies:\", n_items)\n",
    "print(\"The full rating matrix will have:\", n_users * n_items, 'elements')\n",
    "print(\"Number of ratings:\", len(dataframe.rating))\n",
    "print(\"Matrix fill percentage:\", len(dataframe.rating) / (n_users * n_items) * 100, '%')\n",
    "print(\"We have an incredibly sparse matrix to work with here.\")"
   ]
  },
  {
   "cell_type": "code",
   "execution_count": 48,
   "id": "dd94d0ec",
   "metadata": {},
   "outputs": [],
   "source": [
    "class MatrixFactorization(torch.nn.Module):\n",
    "    def __init__(self, n_users, n_items, n_factors=20):\n",
    "        super().__init__()\n",
    "        self.user_factors = torch.nn.Embedding(n_users, n_factors)\n",
    "        self.item_factors = torch.nn.Embedding(n_items, n_factors)\n",
    "        self.user_factors.weight.data.uniform_(0, 0.5)\n",
    "        self.item_factors.weight.data.uniform_(0, 0.5)\n",
    "\n",
    "    def forward(self, data):\n",
    "        users, items = data[:, 0], data[:, 1]\n",
    "        return (self.user_factors(users) * self.item_factors(items)).sum(1)\n",
    "\n",
    "    def predict(self, user, item):\n",
    "        return self.forward(torch.tensor([[user, item]]))"
   ]
  },
  {
   "cell_type": "code",
   "execution_count": 64,
   "id": "66783284",
   "metadata": {},
   "outputs": [],
   "source": [
    "class Loader(Dataset):\n",
    "    def __init__(self):\n",
    "        self.rating = dataframe.copy()\n",
    "\n",
    "        users = self.rating.user_id_maped.unique()\n",
    "        movies = self.rating.program_name.unique()\n",
    "        self.user_id_maped2idx = {o: i for i, o in enumerate(users)}\n",
    "        self.program_name2idx = {o: i for i, o in enumerate(movies)}\n",
    "        self.idx2user_id_mapped = {i: o for o, i in self.user_id_maped2idx.items()}\n",
    "        self.idx2program_name = {i: o for o, i in self.program_name2idx.items()}\n",
    "        self.rating.program_name = self.rating.program_name.apply(lambda x: self.program_name2idx[x])\n",
    "        self.rating.user_id_maped = self.rating.user_id_maped.apply(lambda x: self.user_id_maped2idx[x])\n",
    "        self.x = self.rating.drop(['rating', 'date_'], axis=1).values\n",
    "        self.y = self.rating['rating'].values\n",
    "        self.x, self.y = torch.tensor(self.x, dtype=torch.long), torch.tensor(self.y, dtype=torch.float)\n",
    "\n",
    "    def __getitem__(self, index):\n",
    "        return self.x[index], self.y[index]\n",
    "\n",
    "    def __len__(self):\n",
    "        return len(self.rating)"
   ]
  },
  {
   "cell_type": "code",
   "execution_count": 65,
   "id": "2fa863c5",
   "metadata": {},
   "outputs": [
    {
     "name": "stdout",
     "output_type": "stream",
     "text": [
      "Is running on GPU: False\n",
      "MatrixFactorization(\n",
      "  (user_factors): Embedding(11578, 8)\n",
      "  (item_factors): Embedding(8013, 8)\n",
      ")\n",
      "user_factors.weight tensor([[0.1656, 0.2736, 0.2011,  ..., 0.0439, 0.3111, 0.1968],\n",
      "        [0.4478, 0.2388, 0.3345,  ..., 0.2990, 0.0273, 0.4866],\n",
      "        [0.3393, 0.0929, 0.4088,  ..., 0.2256, 0.3237, 0.2064],\n",
      "        ...,\n",
      "        [0.3823, 0.0849, 0.1879,  ..., 0.2561, 0.0446, 0.3756],\n",
      "        [0.2007, 0.3883, 0.3754,  ..., 0.1518, 0.0206, 0.2575],\n",
      "        [0.0050, 0.1684, 0.4239,  ..., 0.2975, 0.0264, 0.0691]])\n",
      "item_factors.weight tensor([[0.2057, 0.0438, 0.1633,  ..., 0.2053, 0.0178, 0.1045],\n",
      "        [0.2819, 0.1386, 0.3152,  ..., 0.2658, 0.4780, 0.1589],\n",
      "        [0.0957, 0.1816, 0.1573,  ..., 0.3674, 0.1626, 0.3018],\n",
      "        ...,\n",
      "        [0.0079, 0.3572, 0.4313,  ..., 0.1431, 0.2459, 0.4563],\n",
      "        [0.1263, 0.2014, 0.1538,  ..., 0.2828, 0.1136, 0.0448],\n",
      "        [0.2809, 0.3787, 0.3826,  ..., 0.1495, 0.1774, 0.1201]])\n"
     ]
    },
    {
     "ename": "TypeError",
     "evalue": "can't convert np.ndarray of type numpy.object_. The only supported types are: float64, float32, float16, complex64, complex128, int64, int32, int16, int8, uint64, uint32, uint16, uint8, and bool.",
     "output_type": "error",
     "traceback": [
      "\u001b[1;31m---------------------------------------------------------------------------\u001b[0m",
      "\u001b[1;31mTypeError\u001b[0m                                 Traceback (most recent call last)",
      "Cell \u001b[1;32mIn[65], line 22\u001b[0m\n\u001b[0;32m     19\u001b[0m optimizer \u001b[38;5;241m=\u001b[39m torch\u001b[38;5;241m.\u001b[39moptim\u001b[38;5;241m.\u001b[39mAdam(model\u001b[38;5;241m.\u001b[39mparameters(), lr\u001b[38;5;241m=\u001b[39m\u001b[38;5;241m1e-3\u001b[39m)\n\u001b[0;32m     21\u001b[0m \u001b[38;5;66;03m# Train data\u001b[39;00m\n\u001b[1;32m---> 22\u001b[0m train_set \u001b[38;5;241m=\u001b[39m \u001b[43mLoader\u001b[49m\u001b[43m(\u001b[49m\u001b[43m)\u001b[49m\n\u001b[0;32m     23\u001b[0m train_loader \u001b[38;5;241m=\u001b[39m DataLoader(train_set, \u001b[38;5;241m128\u001b[39m, shuffle\u001b[38;5;241m=\u001b[39m\u001b[38;5;28;01mTrue\u001b[39;00m)\n",
      "Cell \u001b[1;32mIn[64], line 15\u001b[0m, in \u001b[0;36mLoader.__init__\u001b[1;34m(self)\u001b[0m\n\u001b[0;32m     13\u001b[0m \u001b[38;5;28mself\u001b[39m\u001b[38;5;241m.\u001b[39mx \u001b[38;5;241m=\u001b[39m \u001b[38;5;28mself\u001b[39m\u001b[38;5;241m.\u001b[39mrating\u001b[38;5;241m.\u001b[39mdrop([\u001b[38;5;124m'\u001b[39m\u001b[38;5;124mrating\u001b[39m\u001b[38;5;124m'\u001b[39m, \u001b[38;5;124m'\u001b[39m\u001b[38;5;124mdate_\u001b[39m\u001b[38;5;124m'\u001b[39m], axis\u001b[38;5;241m=\u001b[39m\u001b[38;5;241m1\u001b[39m)\u001b[38;5;241m.\u001b[39mvalues\n\u001b[0;32m     14\u001b[0m \u001b[38;5;28mself\u001b[39m\u001b[38;5;241m.\u001b[39my \u001b[38;5;241m=\u001b[39m \u001b[38;5;28mself\u001b[39m\u001b[38;5;241m.\u001b[39mrating[\u001b[38;5;124m'\u001b[39m\u001b[38;5;124mrating\u001b[39m\u001b[38;5;124m'\u001b[39m]\u001b[38;5;241m.\u001b[39mvalues\n\u001b[1;32m---> 15\u001b[0m \u001b[38;5;28mself\u001b[39m\u001b[38;5;241m.\u001b[39mx, \u001b[38;5;28mself\u001b[39m\u001b[38;5;241m.\u001b[39my \u001b[38;5;241m=\u001b[39m \u001b[43mtorch\u001b[49m\u001b[38;5;241;43m.\u001b[39;49m\u001b[43mtensor\u001b[49m\u001b[43m(\u001b[49m\u001b[38;5;28;43mself\u001b[39;49m\u001b[38;5;241;43m.\u001b[39;49m\u001b[43mx\u001b[49m\u001b[43m,\u001b[49m\u001b[43m \u001b[49m\u001b[43mdtype\u001b[49m\u001b[38;5;241;43m=\u001b[39;49m\u001b[43mtorch\u001b[49m\u001b[38;5;241;43m.\u001b[39;49m\u001b[43mlong\u001b[49m\u001b[43m)\u001b[49m, torch\u001b[38;5;241m.\u001b[39mtensor(\u001b[38;5;28mself\u001b[39m\u001b[38;5;241m.\u001b[39my, dtype\u001b[38;5;241m=\u001b[39mtorch\u001b[38;5;241m.\u001b[39mfloat)\n",
      "\u001b[1;31mTypeError\u001b[0m: can't convert np.ndarray of type numpy.object_. The only supported types are: float64, float32, float16, complex64, complex128, int64, int32, int16, int8, uint64, uint32, uint16, uint8, and bool."
     ]
    }
   ],
   "source": [
    "num_epochs = 128\n",
    "cuda = torch.cuda.is_available()\n",
    "\n",
    "print(\"Is running on GPU:\", cuda)\n",
    "\n",
    "model = MatrixFactorization(n_users, n_items, n_factors=8)\n",
    "print(model)\n",
    "for name, param in model.named_parameters():\n",
    "    if param.requires_grad:\n",
    "        print(name, param.data)\n",
    "# GPU enable if you have a GPU...\n",
    "if cuda:\n",
    "    model = model.cuda()\n",
    "\n",
    "# MSE loss\n",
    "loss_fn = torch.nn.MSELoss()\n",
    "\n",
    "# ADAM optimizier\n",
    "optimizer = torch.optim.Adam(model.parameters(), lr=1e-3)\n",
    "\n",
    "# Train data\n",
    "train_set = Loader()\n",
    "train_loader = DataLoader(train_set, 128, shuffle=True)"
   ]
  },
  {
   "cell_type": "code",
   "execution_count": 66,
   "id": "10567598",
   "metadata": {},
   "outputs": [
    {
     "name": "stderr",
     "output_type": "stream",
     "text": [
      "  0%|          | 0/128 [00:00<?, ?it/s]\n"
     ]
    },
    {
     "ename": "NameError",
     "evalue": "name 'train_loader' is not defined",
     "output_type": "error",
     "traceback": [
      "\u001b[1;31m---------------------------------------------------------------------------\u001b[0m",
      "\u001b[1;31mNameError\u001b[0m                                 Traceback (most recent call last)",
      "Cell \u001b[1;32mIn[66], line 3\u001b[0m\n\u001b[0;32m      1\u001b[0m \u001b[38;5;28;01mfor\u001b[39;00m it \u001b[38;5;129;01min\u001b[39;00m tqdm(\u001b[38;5;28mrange\u001b[39m(num_epochs)):\n\u001b[0;32m      2\u001b[0m     losses \u001b[38;5;241m=\u001b[39m []\n\u001b[1;32m----> 3\u001b[0m     \u001b[38;5;28;01mfor\u001b[39;00m x, y \u001b[38;5;129;01min\u001b[39;00m \u001b[43mtrain_loader\u001b[49m:\n\u001b[0;32m      4\u001b[0m          \u001b[38;5;28;01mif\u001b[39;00m cuda:\n\u001b[0;32m      5\u001b[0m             x, y \u001b[38;5;241m=\u001b[39m x\u001b[38;5;241m.\u001b[39mcuda(), y\u001b[38;5;241m.\u001b[39mcuda()\n",
      "\u001b[1;31mNameError\u001b[0m: name 'train_loader' is not defined"
     ]
    }
   ],
   "source": [
    "for it in tqdm(range(num_epochs)):\n",
    "    losses = []\n",
    "    for x, y in train_loader:\n",
    "         if cuda:\n",
    "            x, y = x.cuda(), y.cuda()\n",
    "            optimizer.zero_grad()\n",
    "            outputs = model(x)\n",
    "            loss = loss_fn(outputs.squeeze(), y.type(torch.float32))\n",
    "            losses.append(loss.item())\n",
    "            loss.backward()\n",
    "            optimizer.step()\n",
    "    print(\"iter #{}\".format(it), \"Loss:\", sum(losses) / len(losses))"
   ]
  },
  {
   "cell_type": "code",
   "execution_count": 62,
   "id": "287cff55",
   "metadata": {},
   "outputs": [
    {
     "name": "stdout",
     "output_type": "stream",
     "text": [
      "Cluster #0\n"
     ]
    },
    {
     "ename": "NameError",
     "evalue": "name 'train_set' is not defined",
     "output_type": "error",
     "traceback": [
      "\u001b[1;31m---------------------------------------------------------------------------\u001b[0m",
      "\u001b[1;31mNameError\u001b[0m                                 Traceback (most recent call last)",
      "Cell \u001b[1;32mIn[62], line 13\u001b[0m\n\u001b[0;32m     11\u001b[0m movs \u001b[38;5;241m=\u001b[39m []\n\u001b[0;32m     12\u001b[0m \u001b[38;5;28;01mfor\u001b[39;00m movidx \u001b[38;5;129;01min\u001b[39;00m np\u001b[38;5;241m.\u001b[39mwhere(kmeans\u001b[38;5;241m.\u001b[39mlabels_ \u001b[38;5;241m==\u001b[39m cluster)[\u001b[38;5;241m0\u001b[39m]:\n\u001b[1;32m---> 13\u001b[0m     movid \u001b[38;5;241m=\u001b[39m \u001b[43mtrain_set\u001b[49m\u001b[38;5;241m.\u001b[39midx2program_name[movidx]\n\u001b[0;32m     14\u001b[0m     rat_count \u001b[38;5;241m=\u001b[39m dataframe\u001b[38;5;241m.\u001b[39mloc[dataframe[\u001b[38;5;124m'\u001b[39m\u001b[38;5;124mprogram_name\u001b[39m\u001b[38;5;124m'\u001b[39m] \u001b[38;5;241m==\u001b[39m movid]\u001b[38;5;241m.\u001b[39mcount()[\u001b[38;5;241m0\u001b[39m]\n\u001b[0;32m     15\u001b[0m     movs\u001b[38;5;241m.\u001b[39mappend((movid, rat_count))\n",
      "\u001b[1;31mNameError\u001b[0m: name 'train_set' is not defined"
     ]
    }
   ],
   "source": [
    "# Extract latent factors for users and items\n",
    "user_factors = model.user_factors.weight.data.cpu().numpy()\n",
    "item_factors = model.item_factors.weight.data.cpu().numpy()\n",
    "\n",
    "# Perform KMeans clustering\n",
    "kmeans = KMeans(n_clusters=10, random_state=0).fit(item_factors)\n",
    "\n",
    "# Output movie clusters\n",
    "for cluster in range(10):\n",
    "    print(\"Cluster #{}\".format(cluster))\n",
    "    movs = []\n",
    "    for movidx in np.where(kmeans.labels_ == cluster)[0]:\n",
    "        movid = train_set.idx2program_name[movidx]\n",
    "        rat_count = dataframe.loc[dataframe['program_name'] == movid].count()[0]\n",
    "        movs.append((movid, rat_count))\n",
    "    for mov in sorted(movs, key=lambda tup: tup[1], reverse=True)[:10]:\n",
    "        print(\"\\t\", mov[0]) "
   ]
  },
  {
   "cell_type": "code",
   "execution_count": 53,
   "id": "8557cd1a",
   "metadata": {},
   "outputs": [
    {
     "name": "stdout",
     "output_type": "stream",
     "text": [
      "user_factors.weight tensor([[0.4371, 0.4410, 0.3213,  ..., 0.1491, 0.2693, 0.4126],\n",
      "        [0.0047, 0.1863, 0.4835,  ..., 0.0581, 0.3508, 0.2019],\n",
      "        [0.0642, 0.2843, 0.0107,  ..., 0.0960, 0.4194, 0.3409],\n",
      "        ...,\n",
      "        [0.3131, 0.3458, 0.3717,  ..., 0.2334, 0.1022, 0.4189],\n",
      "        [0.4103, 0.1695, 0.3901,  ..., 0.1323, 0.3401, 0.4189],\n",
      "        [0.0349, 0.0783, 0.2460,  ..., 0.0637, 0.0681, 0.4956]])\n",
      "item_factors.weight tensor([[0.4753, 0.3165, 0.0416,  ..., 0.1856, 0.3382, 0.2976],\n",
      "        [0.0721, 0.2021, 0.4602,  ..., 0.3230, 0.0466, 0.3389],\n",
      "        [0.2283, 0.3089, 0.4410,  ..., 0.0132, 0.4025, 0.0441],\n",
      "        ...,\n",
      "        [0.0280, 0.2462, 0.4546,  ..., 0.3964, 0.0558, 0.0810],\n",
      "        [0.0857, 0.4785, 0.0915,  ..., 0.2165, 0.1228, 0.1424],\n",
      "        [0.1184, 0.3900, 0.3048,  ..., 0.3014, 0.4571, 0.3172]])\n"
     ]
    }
   ],
   "source": [
    "c = 0\n",
    "uw = 0\n",
    "iw = 0 \n",
    "for name, param in model.named_parameters():\n",
    "    if param.requires_grad:\n",
    "        print(name, param.data)\n",
    "        if c == 0:\n",
    "          uw = param.data\n",
    "          c +=1\n",
    "        else:\n",
    "          iw = param.data\n",
    "        #print('param_data', param_data)"
   ]
  },
  {
   "cell_type": "code",
   "execution_count": 54,
   "id": "a4f740bd",
   "metadata": {},
   "outputs": [],
   "source": [
    "trained_movie_embeddings = model.item_factors.weight.data.cpu().numpy()\n"
   ]
  },
  {
   "cell_type": "code",
   "execution_count": 55,
   "id": "ed8be40b",
   "metadata": {},
   "outputs": [
    {
     "data": {
      "text/plain": [
       "8013"
      ]
     },
     "execution_count": 55,
     "metadata": {},
     "output_type": "execute_result"
    }
   ],
   "source": [
    "len(trained_movie_embeddings) # unique movie factor weights\n"
   ]
  },
  {
   "cell_type": "code",
   "execution_count": 57,
   "id": "02086bd1",
   "metadata": {},
   "outputs": [],
   "source": [
    "from sklearn.cluster import KMeans\n",
    "# Fit the clusters based on the movie weights\n",
    "kmeans = KMeans(n_clusters=10, random_state=0).fit(trained_movie_embeddings)"
   ]
  },
  {
   "cell_type": "code",
   "execution_count": 58,
   "id": "855bca79",
   "metadata": {},
   "outputs": [
    {
     "name": "stdout",
     "output_type": "stream",
     "text": [
      "Cluster #0\n"
     ]
    },
    {
     "ename": "NameError",
     "evalue": "name 'train_set' is not defined",
     "output_type": "error",
     "traceback": [
      "\u001b[1;31m---------------------------------------------------------------------------\u001b[0m",
      "\u001b[1;31mNameError\u001b[0m                                 Traceback (most recent call last)",
      "Cell \u001b[1;32mIn[58], line 9\u001b[0m\n\u001b[0;32m      7\u001b[0m movs \u001b[38;5;241m=\u001b[39m []\n\u001b[0;32m      8\u001b[0m \u001b[38;5;28;01mfor\u001b[39;00m movidx \u001b[38;5;129;01min\u001b[39;00m np\u001b[38;5;241m.\u001b[39mwhere(kmeans\u001b[38;5;241m.\u001b[39mlabels_ \u001b[38;5;241m==\u001b[39m cluster)[\u001b[38;5;241m0\u001b[39m]:\n\u001b[1;32m----> 9\u001b[0m   movid \u001b[38;5;241m=\u001b[39m \u001b[43mtrain_set\u001b[49m\u001b[38;5;241m.\u001b[39midx2movieid[movidx]\n\u001b[0;32m     10\u001b[0m   rat_count \u001b[38;5;241m=\u001b[39m ratings_df\u001b[38;5;241m.\u001b[39mloc[ratings_df[\u001b[38;5;124m'\u001b[39m\u001b[38;5;124mmovieId\u001b[39m\u001b[38;5;124m'\u001b[39m]\u001b[38;5;241m==\u001b[39mmovid]\u001b[38;5;241m.\u001b[39mcount()[\u001b[38;5;241m0\u001b[39m]\n\u001b[0;32m     11\u001b[0m   movs\u001b[38;5;241m.\u001b[39mappend((movie_names[movid], rat_count))\n",
      "\u001b[1;31mNameError\u001b[0m: name 'train_set' is not defined"
     ]
    }
   ],
   "source": [
    "'''It can be seen here that the movies that are in the same cluster tend to have\n",
    "similar genres. Also note that the algorithm is unfamiliar with the movie name\n",
    "and only obtained the relationships by looking at the numbers representing how\n",
    "users have responded to the movie selections.'''\n",
    "for cluster in range(10):\n",
    "  print(\"Cluster #{}\".format(cluster))\n",
    "  movs = []\n",
    "  for movidx in np.where(kmeans.labels_ == cluster)[0]:\n",
    "    movid = train_set.idx2movieid[movidx]\n",
    "    rat_count = ratings_df.loc[ratings_df['movieId']==movid].count()[0]\n",
    "    movs.append((movie_names[movid], rat_count))\n",
    "  for mov in sorted(movs, key=lambda tup: tup[1], reverse=True)[:10]:\n",
    "    print(\"\\t\", mov[0])"
   ]
  },
  {
   "cell_type": "code",
   "execution_count": 67,
   "id": "c5e8abb5",
   "metadata": {},
   "outputs": [
    {
     "ename": "NameError",
     "evalue": "name 'train_set' is not defined",
     "output_type": "error",
     "traceback": [
      "\u001b[1;31m---------------------------------------------------------------------------\u001b[0m",
      "\u001b[1;31mNameError\u001b[0m                                 Traceback (most recent call last)",
      "Cell \u001b[1;32mIn[67], line 18\u001b[0m\n\u001b[0;32m     15\u001b[0m     \u001b[38;5;28;01mreturn\u001b[39;00m [train_set\u001b[38;5;241m.\u001b[39midx2user_id_mapped[user\u001b[38;5;241m.\u001b[39mitem()] \u001b[38;5;28;01mfor\u001b[39;00m user \u001b[38;5;129;01min\u001b[39;00m top_users]\n\u001b[0;32m     17\u001b[0m \u001b[38;5;66;03m# Example usage\u001b[39;00m\n\u001b[1;32m---> 18\u001b[0m recommendations \u001b[38;5;241m=\u001b[39m \u001b[43mget_recommendations\u001b[49m\u001b[43m(\u001b[49m\u001b[38;5;124;43m\"\u001b[39;49m\u001b[38;5;124;43mMoana\u001b[39;49m\u001b[38;5;124;43m\"\u001b[39;49m\u001b[43m,\u001b[49m\u001b[43m \u001b[49m\u001b[43mtop_n\u001b[49m\u001b[38;5;241;43m=\u001b[39;49m\u001b[38;5;241;43m5\u001b[39;49m\u001b[43m)\u001b[49m\n\u001b[0;32m     19\u001b[0m \u001b[38;5;28mprint\u001b[39m(\u001b[38;5;124m\"\u001b[39m\u001b[38;5;124mTop 5 users who watched \u001b[39m\u001b[38;5;124m'\u001b[39m\u001b[38;5;124mMoana\u001b[39m\u001b[38;5;124m'\u001b[39m\u001b[38;5;124m:\u001b[39m\u001b[38;5;124m\"\u001b[39m, recommendations)\n",
      "Cell \u001b[1;32mIn[67], line 3\u001b[0m, in \u001b[0;36mget_recommendations\u001b[1;34m(movie_name, top_n)\u001b[0m\n\u001b[0;32m      1\u001b[0m \u001b[38;5;28;01mdef\u001b[39;00m \u001b[38;5;21mget_recommendations\u001b[39m(movie_name, top_n\u001b[38;5;241m=\u001b[39m\u001b[38;5;241m5\u001b[39m):\n\u001b[0;32m      2\u001b[0m     \u001b[38;5;66;03m# Convert the movie name to its index\u001b[39;00m\n\u001b[1;32m----> 3\u001b[0m     movie_idx \u001b[38;5;241m=\u001b[39m \u001b[43mtrain_set\u001b[49m\u001b[38;5;241m.\u001b[39mprogram_name2idx[movie_name]\n\u001b[0;32m      5\u001b[0m     \u001b[38;5;66;03m# Get the embedding vector for the movie\u001b[39;00m\n\u001b[0;32m      6\u001b[0m     movie_vec \u001b[38;5;241m=\u001b[39m model\u001b[38;5;241m.\u001b[39mitem_factors(torch\u001b[38;5;241m.\u001b[39mtensor([movie_idx])\u001b[38;5;241m.\u001b[39mcuda())\u001b[38;5;241m.\u001b[39mdetach()\u001b[38;5;241m.\u001b[39mcpu()\u001b[38;5;241m.\u001b[39mnumpy()\n",
      "\u001b[1;31mNameError\u001b[0m: name 'train_set' is not defined"
     ]
    }
   ],
   "source": [
    "def get_recommendations(movie_name, top_n=5):\n",
    "    # Convert the movie name to its index\n",
    "    movie_idx = train_set.program_name2idx[movie_name]\n",
    "    \n",
    "    # Get the embedding vector for the movie\n",
    "    movie_vec = model.item_factors(torch.tensor([movie_idx]).cuda()).detach().cpu().numpy()\n",
    "    \n",
    "    # Calculate similarity scores with all users\n",
    "    scores = torch.matmul(model.user_factors.weight, torch.tensor(movie_vec).T.cuda()).squeeze()\n",
    "    \n",
    "    # Get top N users with the highest scores\n",
    "    _, top_users = torch.topk(scores, top_n)\n",
    "    \n",
    "    # Convert the indices back to user ids\n",
    "    return [train_set.idx2user_id_mapped[user.item()] for user in top_users]\n",
    "\n",
    "# Example usage\n",
    "recommendations = get_recommendations(\"Moana\", top_n=5)\n",
    "print(\"Top 5 users who watched 'Moana':\", recommendations)\n"
   ]
  }
 ],
 "metadata": {
  "kernelspec": {
   "display_name": "Python 3 (ipykernel)",
   "language": "python",
   "name": "python3"
  },
  "language_info": {
   "codemirror_mode": {
    "name": "ipython",
    "version": 3
   },
   "file_extension": ".py",
   "mimetype": "text/x-python",
   "name": "python",
   "nbconvert_exporter": "python",
   "pygments_lexer": "ipython3",
   "version": "3.12.4"
  }
 },
 "nbformat": 4,
 "nbformat_minor": 5
}
